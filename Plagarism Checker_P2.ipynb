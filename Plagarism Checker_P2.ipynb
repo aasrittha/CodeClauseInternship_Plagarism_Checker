{
 "cells": [
  {
   "cell_type": "code",
   "execution_count": 1,
   "id": "6af2c015",
   "metadata": {},
   "outputs": [],
   "source": [
    "from difflib import SequenceMatcher"
   ]
  },
  {
   "cell_type": "code",
   "execution_count": 8,
   "id": "28429c01",
   "metadata": {},
   "outputs": [
    {
     "name": "stdout",
     "output_type": "stream",
     "text": [
      "Similarity Ratio: 9.94475138121547\n"
     ]
    }
   ],
   "source": [
    "# Plagiarism check for file1 and file2\n",
    "file_path1 = r\"C:\\Users\\aasri\\OneDrive\\Documents\\1.txt\"\n",
    "file_path2 = r\"C:\\Users\\aasri\\OneDrive\\Documents\\2.txt\"\n",
    "\n",
    "with open(file_path1, 'r', encoding='utf-8') as file1, open(file_path2, 'r', encoding='utf-8') as file2:\n",
    "    file1_data = file1.read()\n",
    "    file2_data = file2.read()\n",
    "\n",
    "similarity_ratio = SequenceMatcher(None, file1_data, file2_data).ratio()\n",
    "\n",
    "print(f\"Similarity Ratio: {similarity_ratio*100}\")"
   ]
  },
  {
   "cell_type": "code",
   "execution_count": 9,
   "id": "f67588e4",
   "metadata": {},
   "outputs": [
    {
     "name": "stdout",
     "output_type": "stream",
     "text": [
      "Similarity Ratio: 99.69040247678018\n"
     ]
    }
   ],
   "source": [
    "# Plagiarism check for file1 and file3\n",
    "file_path1 = r\"C:\\Users\\aasri\\OneDrive\\Documents\\1.txt\"\n",
    "file_path3 = r\"C:\\Users\\aasri\\OneDrive\\Documents\\3.txt\"\n",
    "\n",
    "with open(file_path1, 'r', encoding='utf-8') as file1, open(file_path3, 'r', encoding='utf-8') as file3:\n",
    "    file1_data = file1.read()\n",
    "    file3_data = file3.read()\n",
    "\n",
    "similarity_ratio = SequenceMatcher(None, file1_data, file3_data).ratio()\n",
    "\n",
    "print(f\"Similarity Ratio: {similarity_ratio*100}\")"
   ]
  },
  {
   "cell_type": "code",
   "execution_count": null,
   "id": "ecef0675",
   "metadata": {},
   "outputs": [],
   "source": []
  }
 ],
 "metadata": {
  "kernelspec": {
   "display_name": "Python 3 (ipykernel)",
   "language": "python",
   "name": "python3"
  },
  "language_info": {
   "codemirror_mode": {
    "name": "ipython",
    "version": 3
   },
   "file_extension": ".py",
   "mimetype": "text/x-python",
   "name": "python",
   "nbconvert_exporter": "python",
   "pygments_lexer": "ipython3",
   "version": "3.10.9"
  }
 },
 "nbformat": 4,
 "nbformat_minor": 5
}
